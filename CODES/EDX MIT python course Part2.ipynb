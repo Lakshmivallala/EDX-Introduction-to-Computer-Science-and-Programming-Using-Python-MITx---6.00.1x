{
 "cells": [
  {
   "cell_type": "code",
   "execution_count": 1,
   "metadata": {},
   "outputs": [
    {
     "data": {
      "text/plain": [
       "[3, 3, 5, 6, 7]"
      ]
     },
     "execution_count": 1,
     "metadata": {},
     "output_type": "execute_result"
    }
   ],
   "source": [
    "li=[3,5,3,6,7]\n",
    "sorted(li)"
   ]
  },
  {
   "cell_type": "code",
   "execution_count": 66,
   "metadata": {},
   "outputs": [
    {
     "name": "stdout",
     "output_type": "stream",
     "text": [
      "l= [2, 3, 4, 5, 8]\n",
      "<class 'NoneType'>\n",
      "[1, 2, 3, 4, 5]\n"
     ]
    },
    {
     "data": {
      "text/plain": [
       "[1, 2, 3, 4, 5]"
      ]
     },
     "execution_count": 66,
     "metadata": {},
     "output_type": "execute_result"
    }
   ],
   "source": [
    "l=[8,2,4,5,3]\n",
    "l.sort()\n",
    "print(\"l=\",l)\n",
    "print(type(l.sort())) \n",
    "print(sorted([5, 2, 3, 1, 4]))\n",
    "sorted([5, 2, 3, 1, 4])"
   ]
  },
  {
   "cell_type": "code",
   "execution_count": 14,
   "metadata": {},
   "outputs": [
    {
     "name": "stdout",
     "output_type": "stream",
     "text": [
      "Last element:  0\n",
      "[3, 2, 1]\n",
      "3 at index 0:  3\n",
      "[2, 1]\n",
      "1 at index 1:  1\n",
      "[2]\n",
      "2 at index 0:  2\n",
      "[]\n"
     ]
    }
   ],
   "source": [
    "L = [3, 2, 1, 0]\n",
    "print(\"Last element: \", L.pop())\n",
    "print(L)\n",
    "print(\"3 at index 0: \",L.pop(0))\n",
    "print(L)\n",
    "print(\"1 at index 1: \",L.pop(1))\n",
    "print(L)\n",
    "print(\"2 at index 0: \",L.pop(0))\n",
    "print(L)"
   ]
  },
  {
   "cell_type": "code",
   "execution_count": 1,
   "metadata": {},
   "outputs": [
    {
     "name": "stdout",
     "output_type": "stream",
     "text": [
      "5\n"
     ]
    }
   ],
   "source": [
    "def sum():\n",
    "    return 2+3\n",
    "print(sum())"
   ]
  },
  {
   "cell_type": "markdown",
   "metadata": {},
   "source": [
    "If a list has aliases, any attribute or method applied to one list affects the other.\n",
    "[CHECK](http://www.pythontutor.com/visualize.html#mode=display)"
   ]
  },
  {
   "cell_type": "code",
   "execution_count": 2,
   "metadata": {},
   "outputs": [
    {
     "name": "stdout",
     "output_type": "stream",
     "text": [
      "1\n",
      "1\n"
     ]
    },
    {
     "data": {
      "text/plain": [
       "['red', 'yellow', 'orange']"
      ]
     },
     "execution_count": 2,
     "metadata": {},
     "output_type": "execute_result"
    }
   ],
   "source": [
    "a=1\n",
    "b=1\n",
    "print(a)\n",
    "print(b)\n",
    "warm=['red','yellow','orange']\n",
    "hot=warm\n",
    "hot"
   ]
  },
  {
   "cell_type": "code",
   "execution_count": 3,
   "metadata": {},
   "outputs": [
    {
     "data": {
      "text/plain": [
       "['red', 'yellow', 'orange']"
      ]
     },
     "execution_count": 3,
     "metadata": {},
     "output_type": "execute_result"
    }
   ],
   "source": [
    "warm"
   ]
  },
  {
   "cell_type": "code",
   "execution_count": 17,
   "metadata": {},
   "outputs": [
    {
     "name": "stdout",
     "output_type": "stream",
     "text": [
      "hot and warm point to the same things (the same lists) (Refer to pythontutor for visual understanding))\n"
     ]
    },
    {
     "data": {
      "text/plain": [
       "['red', 'yellow', 'orange', 'pink', 'pink', 'pink', 'pink', 'pink']"
      ]
     },
     "execution_count": 17,
     "metadata": {},
     "output_type": "execute_result"
    }
   ],
   "source": [
    "hot.append('pink')\n",
    "print(\"hot and warm point to the same things (the same lists) (Refer to pythontutor for visual understanding))\")\n",
    "hot"
   ]
  },
  {
   "cell_type": "code",
   "execution_count": 7,
   "metadata": {},
   "outputs": [
    {
     "data": {
      "text/plain": [
       "['red', 'yellow', 'orange', 'pink', 'pink']"
      ]
     },
     "execution_count": 7,
     "metadata": {},
     "output_type": "execute_result"
    }
   ],
   "source": [
    "warm"
   ]
  },
  {
   "cell_type": "code",
   "execution_count": 14,
   "metadata": {},
   "outputs": [
    {
     "name": "stdout",
     "output_type": "stream",
     "text": [
      "['green', 'blue', 'lime']\n",
      "['green', 'blue', 'lime']\n",
      "['green', 'blue', 'lime']\n",
      "['green', 'blue', 'red']\n",
      "cool and chill point to different structures\n"
     ]
    }
   ],
   "source": [
    "cool=['green','blue','lime']\n",
    "chill=['green','blue','lime']\n",
    "print(cool)\n",
    "print(chill)\n",
    "chill[2]='red'\n",
    "print(cool)\n",
    "print(chill)\n",
    "print(\"cool and chill point to different structures\")"
   ]
  },
  {
   "cell_type": "markdown",
   "metadata": {},
   "source": [
    "#### CLONING A LIST"
   ]
  },
  {
   "cell_type": "code",
   "execution_count": 21,
   "metadata": {},
   "outputs": [
    {
     "name": "stdout",
     "output_type": "stream",
     "text": [
      "To avoid two identical lists to not point at each other we can o the following:\n",
      "['blue', 'green', 'red']\n",
      "['blue', 'green', 'red']\n",
      "['blue', 'green', 'red']\n",
      "['blue', 'green', 'red', 'black']\n"
     ]
    }
   ],
   "source": [
    "print(\"To avoid two identical lists to not point at each other we can o the following:\")\n",
    "cool=['blue','green','red']\n",
    "chill=cool[:]\n",
    "print(cool)\n",
    "print(chill)\n",
    "chill.append('black')\n",
    "print(cool)\n",
    "print(chill)"
   ]
  },
  {
   "cell_type": "code",
   "execution_count": 35,
   "metadata": {},
   "outputs": [
    {
     "name": "stdout",
     "output_type": "stream",
     "text": [
      "['orange', 'red', 'yellow']\n",
      "CHECK THIS!! This is because sort doesn't return anything: None\n",
      "Cool remains the same ['green', 'blue', 'lime']\n",
      "Just returns a new sorted list ['blue', 'green', 'lime']\n"
     ]
    }
   ],
   "source": [
    "warm=['red','yellow','orange']\n",
    "sortedwarm=warm.sort()\n",
    "print(warm)\n",
    "print(\"CHECK THIS!! This is because sort doesn't return anything:\",sortedwarm)\n",
    "cool=['green','blue','lime']\n",
    "sortedcool=sorted(cool)\n",
    "print(\"Cool remains the same\", cool)\n",
    "print(\"Just returns a new sorted list\",sortedcool)"
   ]
  },
  {
   "cell_type": "markdown",
   "metadata": {
    "collapsed": true
   },
   "source": [
    "WE CANNOT SORT TUPLES BECAUSE THAT REQUIRES CHANGING THE TUPLE INDEXES\n",
    "\n",
    "But we can use the sorted function -> this creates a list where data is copied!"
   ]
  },
  {
   "cell_type": "code",
   "execution_count": 52,
   "metadata": {},
   "outputs": [
    {
     "name": "stdout",
     "output_type": "stream",
     "text": [
      "Prints address: <built-in method sort of list object at 0x7f15da1b5988>\n",
      "Prints none: None\n",
      "l is mutated [2, 3, 5, 6]\n"
     ]
    }
   ],
   "source": [
    "l=[2,5,6,3]\n",
    "l.sort()\n",
    "print(\"Prints address:\",l.sort)\n",
    "print(\"Prints none:\",l.sort())\n",
    "print(\"l is mutated\",l)"
   ]
  },
  {
   "cell_type": "code",
   "execution_count": 60,
   "metadata": {},
   "outputs": [
    {
     "data": {
      "text/plain": [
       "[2, 3, 6, 35, 64, 345]"
      ]
     },
     "execution_count": 60,
     "metadata": {},
     "output_type": "execute_result"
    }
   ],
   "source": [
    "k=[64,6,3,2,345,35]\n",
    "sorted(k)"
   ]
  },
  {
   "cell_type": "code",
   "execution_count": 73,
   "metadata": {},
   "outputs": [
    {
     "name": "stdout",
     "output_type": "stream",
     "text": [
      "[2, 3, 6, 35, 64, 345]\n",
      "<built-in function sorted>\n",
      "k remains the same [64, 6, 3, 2, 345, 35]\n"
     ]
    }
   ],
   "source": [
    "print(sorted(k))\n",
    "print(sorted)\n",
    "#error print(sorted())\n",
    "print(\"k remains the same\",k)"
   ]
  },
  {
   "cell_type": "code",
   "execution_count": 77,
   "metadata": {},
   "outputs": [
    {
     "data": {
      "text/plain": [
       "[['yellow', 'orange']]"
      ]
     },
     "execution_count": 77,
     "metadata": {},
     "output_type": "execute_result"
    }
   ],
   "source": [
    "warm=['yellow','orange']\n",
    "hot=['red']\n",
    "brightcolours=[warm]\n",
    "brightcolours"
   ]
  },
  {
   "cell_type": "code",
   "execution_count": 78,
   "metadata": {},
   "outputs": [
    {
     "data": {
      "text/plain": [
       "[['yellow', 'orange'], ['red']]"
      ]
     },
     "execution_count": 78,
     "metadata": {},
     "output_type": "execute_result"
    }
   ],
   "source": [
    "brightcolours.append(hot)\n",
    "brightcolours"
   ]
  },
  {
   "cell_type": "code",
   "execution_count": 79,
   "metadata": {},
   "outputs": [
    {
     "name": "stdout",
     "output_type": "stream",
     "text": [
      "['red', 'pink']\n",
      "[['yellow', 'orange'], ['red', 'pink']]\n",
      "['red', 'pink', 'yellow', 'orange']\n"
     ]
    }
   ],
   "source": [
    "hot.append('pink')\n",
    "print(hot)\n",
    "print(brightcolours)\n",
    "print(hot+warm)"
   ]
  },
  {
   "cell_type": "code",
   "execution_count": 67,
   "metadata": {},
   "outputs": [
    {
     "name": "stdout",
     "output_type": "stream",
     "text": [
      "[3, 4]\n",
      "[1, 5, 6, 7]\n",
      "[2, 3, 4]\n",
      "[1, 2, 5, 6]\n",
      "Why is it [2,3,4] instead of [3,4]\n",
      "This is because python uses a internal counter but since the length changes when an element is removed, the counter never sees element 2. We can copy this toa new list or go backwards\n",
      "[2, 6, 7, 8, 8, 99, 6, 4, 4] , [1, 2, 5, 6, 7, 4, 3, 6, 7, 3, 6, 7, 5, 7]\n"
     ]
    }
   ],
   "source": [
    "#WRONG METHOD THOUGH\n",
    "def removeduplicates(l1,l2):\n",
    "    for i in l1:\n",
    "        if i in l2:\n",
    "            l1.remove(i)\n",
    "l1=[1,3,4,5]\n",
    "l2=[1,5,6,7]\n",
    "removeduplicates(l1,l2)\n",
    "print(l1)\n",
    "print(l2)\n",
    "\n",
    "l1=[1,2,3,4]\n",
    "l2=[1,2,5,6]\n",
    "removeduplicates(l1,l2)\n",
    "print(l1)\n",
    "print(l2)\n",
    "print(\"Why is it [2,3,4] instead of [3,4]\")\n",
    "print(\"This is because python uses a internal counter but since the length changes when an element is removed, the counter never sees element 2. We can copy this toa new list or go backwards\")\n",
    "\n",
    "\n",
    "l1=[1,2,3,4,5,6,7,7,8,8,99,5,6,4,4]\n",
    "l2=[1,2,5,6,7,4,3,6,7,3,6,7,5,7]\n",
    "removeduplicates(l1,l2)\n",
    "print(l1,\",\",l2)"
   ]
  },
  {
   "cell_type": "code",
   "execution_count": 96,
   "metadata": {},
   "outputs": [
    {
     "name": "stdout",
     "output_type": "stream",
     "text": [
      "[1, 3, 4, 5] [1, 5, 6, 7]\n",
      "[3, 4]\n",
      "[1, 2, 3, 4] [1, 2, 5, 6]\n",
      "[3, 4]\n",
      "[1, 2, 3, 4, 5, 6, 7, 7, 8, 8, 99, 5, 6, 4, 4] , [1, 2, 5, 6, 7, 4, 3, 6, 7, 3, 6, 7, 5, 7]\n",
      "[8, 8, 99]\n",
      "Prints duplicates of l2 only\n"
     ]
    }
   ],
   "source": [
    "#SOLUTION!\n",
    "def removeduplicates(l1,l2):\n",
    "    l1_copy=l1[:]\n",
    "    for i in l1_copy:\n",
    "        if i in l2:\n",
    "            l1.remove(i)\n",
    "l1=[1,3,4,5]\n",
    "l2=[1,5,6,7]\n",
    "print(l1,l2)\n",
    "removeduplicates(l1,l2)\n",
    "print(l1)\n",
    "\n",
    "l1=[1,2,3,4]\n",
    "l2=[1,2,5,6]\n",
    "print(l1,l2)\n",
    "removeduplicates(l1,l2)\n",
    "print(l1)\n",
    "\n",
    "l1=[1,2,3,4,5,6,7,7,8,8,99,5,6,4,4]\n",
    "l2=[1,2,5,6,7,4,3,6,7,3,6,7,5,7]\n",
    "print(l1,\",\",l2)\n",
    "removeduplicates(l1,l2)\n",
    "print(l1)\n",
    "print(\"Prints duplicates of l2 only\")"
   ]
  },
  {
   "cell_type": "code",
   "execution_count": 101,
   "metadata": {},
   "outputs": [
    {
     "ename": "TypeError",
     "evalue": "'str' object does not support item assignment",
     "output_type": "error",
     "traceback": [
      "\u001b[0;31m---------------------------------------------------------------------------\u001b[0m",
      "\u001b[0;31mTypeError\u001b[0m                                 Traceback (most recent call last)",
      "\u001b[0;32m<ipython-input-101-7b8e8fc0427e>\u001b[0m in \u001b[0;36m<module>\u001b[0;34m\u001b[0m\n\u001b[1;32m      1\u001b[0m \u001b[0ms1\u001b[0m\u001b[0;34m=\u001b[0m\u001b[0;34m'lakshmi'\u001b[0m\u001b[0;34m\u001b[0m\u001b[0;34m\u001b[0m\u001b[0m\n\u001b[1;32m      2\u001b[0m \u001b[0ms2\u001b[0m\u001b[0;34m=\u001b[0m\u001b[0ms1\u001b[0m\u001b[0;34m\u001b[0m\u001b[0;34m\u001b[0m\u001b[0m\n\u001b[0;32m----> 3\u001b[0;31m \u001b[0ms2\u001b[0m\u001b[0;34m[\u001b[0m\u001b[0;36m1\u001b[0m\u001b[0;34m]\u001b[0m\u001b[0;34m=\u001b[0m\u001b[0;34m'r'\u001b[0m\u001b[0;34m\u001b[0m\u001b[0;34m\u001b[0m\u001b[0m\n\u001b[0m\u001b[1;32m      4\u001b[0m \u001b[0ms2\u001b[0m\u001b[0;34m\u001b[0m\u001b[0;34m\u001b[0m\u001b[0m\n",
      "\u001b[0;31mTypeError\u001b[0m: 'str' object does not support item assignment"
     ]
    }
   ],
   "source": [
    "s1='lakshmi'\n",
    "s2=s1\n",
    "s2[1]='r'\n",
    "s2"
   ]
  },
  {
   "cell_type": "code",
   "execution_count": 107,
   "metadata": {},
   "outputs": [
    {
     "data": {
      "text/plain": [
       "'lakshmi'"
      ]
     },
     "execution_count": 107,
     "metadata": {},
     "output_type": "execute_result"
    }
   ],
   "source": [
    "s3=''\n",
    "for i in s1:\n",
    "    s3 = s3 + i\n",
    "s3"
   ]
  },
  {
   "cell_type": "code",
   "execution_count": 113,
   "metadata": {},
   "outputs": [
    {
     "name": "stdout",
     "output_type": "stream",
     "text": [
      "larshmi varlala\n"
     ]
    },
    {
     "data": {
      "text/plain": [
       "str"
      ]
     },
     "execution_count": 113,
     "metadata": {},
     "output_type": "execute_result"
    }
   ],
   "source": [
    "str1 = \"lakshmi vallala\"\n",
    "list1 = list(str1)\n",
    "list1[2] = 'r'\n",
    "list1[10]=\"r\"\n",
    "str1 = ''.join(list1)\n",
    "print(str1)\n",
    "type(str1)"
   ]
  },
  {
   "cell_type": "code",
   "execution_count": 121,
   "metadata": {},
   "outputs": [
    {
     "name": "stdout",
     "output_type": "stream",
     "text": [
      "['barium', 'beryllium', 'calcium', 'magnesium', 'radium', 'strontium']\n",
      "['strontium', 'radium', 'magnesium', 'calcium', 'beryllium', 'barium']\n",
      "WE CANNOT SORT TUPLES BECAUSE THAT REQUIRES CHANGING THE TUPLE INDEXES\n"
     ]
    }
   ],
   "source": [
    "earth_metals=['beryllium','magnesium','calcium','strontium','barium','radium']\n",
    "earth_metals.sort()\n",
    "print(earth_metals)\n",
    "earth_metals.sort(reverse=True)\n",
    "print(earth_metals)\n",
    "print(\"WE CANNOT SORT TUPLES BECAUSE THAT REQUIRES CHANGING THE TUPLE INDEXES\")\n",
    "#earth_metals=('beryllium','magnesium','calcium','strontium','barium','radium')\n",
    "earth_metals.sort()"
   ]
  },
  {
   "cell_type": "code",
   "execution_count": 14,
   "metadata": {},
   "outputs": [
    {
     "name": "stdout",
     "output_type": "stream",
     "text": [
      "Help on method_descriptor:\n",
      "\n",
      "sort(self, /, *, key=None, reverse=False)\n",
      "    Stable sort *IN PLACE*.\n",
      "\n",
      "\n",
      "Help on built-in function sorted in module builtins:\n",
      "\n",
      "sorted(iterable, /, *, key=None, reverse=False)\n",
      "    Return a new list containing all items from the iterable in ascending order.\n",
      "    \n",
      "    A custom key function can be supplied to customize the sort order, and the\n",
      "    reverse flag can be set to request the result in descending order.\n",
      "\n"
     ]
    }
   ],
   "source": [
    "help(list.sort)\n",
    "print()\n",
    "help(sorted)"
   ]
  },
  {
   "cell_type": "code",
   "execution_count": 11,
   "metadata": {},
   "outputs": [
    {
     "data": {
      "text/plain": [
       "[('Jupiter', 5.21, 71492),\n",
       " ('Saturn', 9.551, 60268),\n",
       " ('Uranus', 19.213, 25559),\n",
       " ('Neptune', 30.07, 24764),\n",
       " ('Earth', 1.0, 6378),\n",
       " ('Venus', 0.723, 6052),\n",
       " ('Mars', 1.53, 3396),\n",
       " ('Mercury', 0.395, 2440)]"
      ]
     },
     "execution_count": 11,
     "metadata": {},
     "output_type": "execute_result"
    }
   ],
   "source": [
    "'''\n",
    "planets=[(planet_name,distance from sun,radius of planet)]'''\n",
    "planets=[\n",
    "    (\"Mercury\",0.395,2440),\n",
    "    (\"Venus\",0.723,6052), \n",
    "    (\"Earth\",1.000,6378), \n",
    "    (\"Mars\",1.530,3396),\n",
    "    (\"Jupiter\",5.210,71492),\n",
    "    (\"Saturn\",9.551,60268),\n",
    "    (\"Uranus\",19.213,25559), \n",
    "    (\"Neptune\",30.070,24764)\n",
    "]\n",
    "\n",
    "size=lambda planet: planet[2]\n",
    "planets.sort(key=size,reverse=True)\n",
    "planets"
   ]
  },
  {
   "cell_type": "code",
   "execution_count": 16,
   "metadata": {},
   "outputs": [
    {
     "name": "stdout",
     "output_type": "stream",
     "text": [
      "['beryllium', 'magnesium', 'calcium', 'strontium', 'barium', 'radium']\n",
      "['barium', 'beryllium', 'calcium', 'magnesium', 'radium', 'strontium']\n"
     ]
    }
   ],
   "source": [
    "earth_metals=['beryllium','magnesium','calcium','strontium','barium','radium']\n",
    "sorted_e_m=sorted(earth_metals)\n",
    "print(earth_metals)\n",
    "print(sorted_e_m)"
   ]
  },
  {
   "cell_type": "code",
   "execution_count": 22,
   "metadata": {},
   "outputs": [
    {
     "name": "stdout",
     "output_type": "stream",
     "text": [
      "Notice that a list is returned [1, 2, 3, 4, 5, 6, 7, 8, 9, 10]\n",
      "(3, 1, 5, 2, 10, 4, 7, 6, 8, 9)\n",
      "[3, 1, 5, 2, 10, 4, 7, 6, 8, 9]\n",
      "(1, 2, 3, 4, 5, 6, 7, 8, 9, 10)\n"
     ]
    }
   ],
   "source": [
    "data=(3,1,5,2,10,4,7,6,8,9)\n",
    "print(\"Notice that a list is returned\",sorted(data))\n",
    "print(data)\n",
    "print(list(data))\n",
    "print(tuple(sorted(data)))"
   ]
  },
  {
   "cell_type": "code",
   "execution_count": 23,
   "metadata": {},
   "outputs": [
    {
     "data": {
      "text/plain": [
       "['A', 'a', 'a', 'b', 'c', 'e', 'h', 'i', 'l', 'l', 'p', 't']"
      ]
     },
     "execution_count": 23,
     "metadata": {},
     "output_type": "execute_result"
    }
   ],
   "source": [
    "sorted(\"Alphabetical\")"
   ]
  },
  {
   "cell_type": "markdown",
   "metadata": {},
   "source": [
    "Quick BRIEF ON LAMBDA EXPRESSION = ANONYMOUS FUNCTIONS"
   ]
  },
  {
   "cell_type": "code",
   "execution_count": 25,
   "metadata": {},
   "outputs": [
    {
     "data": {
      "text/plain": [
       "7"
      ]
     },
     "execution_count": 25,
     "metadata": {},
     "output_type": "execute_result"
    }
   ],
   "source": [
    "def f(x):\n",
    "    return 3*x+1\n",
    "f(2)"
   ]
  },
  {
   "cell_type": "code",
   "execution_count": 29,
   "metadata": {},
   "outputs": [
    {
     "name": "stdout",
     "output_type": "stream",
     "text": [
      "Here, we have defined an anonymous function. Lambda is not the name, it's a python keyword. This anonymous function takes x and returns 3x+1. So how do we call these functions?\n",
      "One way to do this: \n",
      "7\n"
     ]
    }
   ],
   "source": [
    "lambda x:3*x+1\n",
    "print(\"Here, we have defined an anonymous function. Lambda is not the name, it's a python keyword. This anonymous function takes x and returns 3x+1. So how do we call these functions?\")\n",
    "g=lambda x:3*x+1\n",
    "print(\"One way to do this: \")\n",
    "print(g(2))"
   ]
  },
  {
   "cell_type": "code",
   "execution_count": 32,
   "metadata": {},
   "outputs": [
    {
     "data": {
      "text/plain": [
       "'Lakshmi Vallala'"
      ]
     },
     "execution_count": 32,
     "metadata": {},
     "output_type": "execute_result"
    }
   ],
   "source": [
    "full_name=lambda fn,ln: fn.strip().title()+\" \"+ln.strip().title()\n",
    "full_name(\"   lakshMi \",\"   VallalA \")"
   ]
  },
  {
   "cell_type": "code",
   "execution_count": 35,
   "metadata": {},
   "outputs": [
    {
     "data": {
      "text/plain": [
       "<function __main__.<lambda>(x, y, z)>"
      ]
     },
     "execution_count": 35,
     "metadata": {},
     "output_type": "execute_result"
    }
   ],
   "source": [
    "lambda : \"What is this?\"\n",
    "lambda x: 3*x+1\n",
    "lambda x,y:(x*y)**0.5\n",
    "lambda x,y,z: 3/(1/x+1/y+1/z)\n",
    "# lambda x1,x2,x3,x4......xn : EXPRESSION"
   ]
  },
  {
   "cell_type": "code",
   "execution_count": 44,
   "metadata": {},
   "outputs": [
    {
     "name": "stdout",
     "output_type": "stream",
     "text": [
      "Help on built-in function sort:\n",
      "\n",
      "sort(*, key=None, reverse=False) method of builtins.list instance\n",
      "    Stable sort *IN PLACE*.\n",
      "\n",
      "\n",
      "Help on NoneType object:\n",
      "\n",
      "class NoneType(object)\n",
      " |  Methods defined here:\n",
      " |  \n",
      " |  __bool__(self, /)\n",
      " |      self != 0\n",
      " |  \n",
      " |  __repr__(self, /)\n",
      " |      Return repr(self).\n",
      " |  \n",
      " |  ----------------------------------------------------------------------\n",
      " |  Static methods defined here:\n",
      " |  \n",
      " |  __new__(*args, **kwargs) from builtins.type\n",
      " |      Create and return a new object.  See help(type) for accurate signature.\n",
      "\n"
     ]
    },
    {
     "data": {
      "text/plain": [
       "['Chetan Bhagat',\n",
       " 'Ruskin Bond',\n",
       " 'Sarat Chandra Chattopadhyay',\n",
       " 'Jhumpa Lahiri',\n",
       " 'Amrita Pritam',\n",
       " 'Arundhati Roy',\n",
       " 'Vikram Seth',\n",
       " 'Khushwant Singh',\n",
       " ' Rabindranath Tagore']"
      ]
     },
     "execution_count": 44,
     "metadata": {},
     "output_type": "execute_result"
    }
   ],
   "source": [
    "ind_authors=[\"Chetan Bhagat\",\"Amrita Pritam\",\"Jhumpa Lahiri\",\"Khushwant Singh\",\" Rabindranath Tagore\",\"Ruskin Bond\",\"Vikram Seth\",\"Arundhati Roy\",\"Sarat Chandra Chattopadhyay\"]\n",
    "help(ind_authors.sort)\n",
    "print()\n",
    "help(ind_authors.sort())\n",
    "ind_authors.sort(key=lambda name:name.split(\" \")[-1].lower())\n",
    "ind_authors"
   ]
  },
  {
   "cell_type": "code",
   "execution_count": 51,
   "metadata": {},
   "outputs": [
    {
     "name": "stdout",
     "output_type": "stream",
     "text": [
      "-5\n",
      "0\n",
      "9\n",
      "22\n",
      "39\n",
      "60\n"
     ]
    }
   ],
   "source": [
    "def build_quadratic_funn(a,b,c):\n",
    "    \"\"\"Returns the function f(x) = ax^2+bx+c\"\"\"\n",
    "    return lambda x:a*x**2+b*x+c\n",
    "f=build_quadratic_funn(2,3,-5)\n",
    "print(f(0))  # 0: 2*x**2+3*0+(-5)\n",
    "print(f(1))\n",
    "print(f(2))\n",
    "print(f(3))\n",
    "print(f(4))\n",
    "print(f(5))"
   ]
  },
  {
   "cell_type": "markdown",
   "metadata": {},
   "source": [
    "EASIER ALTERNATIVE TO THE ABOVE CODE:"
   ]
  },
  {
   "cell_type": "code",
   "execution_count": 52,
   "metadata": {},
   "outputs": [
    {
     "data": {
      "text/plain": [
       "13"
      ]
     },
     "execution_count": 52,
     "metadata": {},
     "output_type": "execute_result"
    }
   ],
   "source": [
    "build_quadratic_funn(3,0,1)(2)"
   ]
  },
  {
   "cell_type": "code",
   "execution_count": 55,
   "metadata": {},
   "outputs": [
    {
     "name": "stdout",
     "output_type": "stream",
     "text": [
      "9\n"
     ]
    },
    {
     "data": {
      "text/plain": [
       "10"
      ]
     },
     "execution_count": 55,
     "metadata": {},
     "output_type": "execute_result"
    }
   ],
   "source": [
    "k = 9\n",
    "h = k\n",
    "k += 1\n",
    "print(h)\n",
    "k"
   ]
  },
  {
   "cell_type": "code",
   "execution_count": 57,
   "metadata": {},
   "outputs": [
    {
     "data": {
      "text/plain": [
       "('blue', 'green', 'grey')"
      ]
     },
     "execution_count": 57,
     "metadata": {},
     "output_type": "execute_result"
    }
   ],
   "source": [
    ">>> cool = ('blue', 'green', 'grey')\n",
    ">>> cool\n",
    "('blue', 'green', 'grey')\n",
    ">>> chill = cool\n",
    "\n",
    ">>> cool\n",
    "('blue', 'green', 'grey')\n",
    ">>> cool += ('sky',)\n",
    ">>> cool\n",
    "('blue', 'green', 'grey', 'sky')\n",
    ">>> chill\n",
    "('blue', 'green', 'grey')"
   ]
  },
  {
   "cell_type": "code",
   "execution_count": 59,
   "metadata": {},
   "outputs": [
    {
     "name": "stdout",
     "output_type": "stream",
     "text": [
      "0\n",
      "0\n",
      "0\n",
      "4\n"
     ]
    }
   ],
   "source": [
    "black = 0\n",
    "print(black)\n",
    "blue = black \n",
    "print(blue)\n",
    "black = 4 \n",
    "print(blue)\n",
    "print(black)"
   ]
  },
  {
   "cell_type": "code",
   "execution_count": 64,
   "metadata": {},
   "outputs": [
    {
     "name": "stdout",
     "output_type": "stream",
     "text": [
      "[2, 3, 4, 6] None\n"
     ]
    }
   ],
   "source": [
    "L2=[]\n",
    "L1=[2,4,6,3]\n",
    "L2=L1.sort()\n",
    "print(L1,L2)"
   ]
  },
  {
   "cell_type": "code",
   "execution_count": 69,
   "metadata": {},
   "outputs": [
    {
     "name": "stdout",
     "output_type": "stream",
     "text": [
      "[1, 2, 3, 4] [1, 2, 5, 6]\n",
      "[3, 4]\n"
     ]
    }
   ],
   "source": [
    "def removeduplicates(l1,l2):\n",
    "    for i in range(len(l1)-1, -1, -1):\n",
    "        if i in l2:\n",
    "            l1.remove(i)\n",
    "l1=[1,2,3,4]\n",
    "l2=[1,2,5,6]\n",
    "print(l1,l2)\n",
    "removeduplicates(l1,l2)\n",
    "print(l1)"
   ]
  },
  {
   "cell_type": "code",
   "execution_count": 75,
   "metadata": {},
   "outputs": [
    {
     "name": "stdout",
     "output_type": "stream",
     "text": [
      "True\n",
      "True\n",
      "[0, 1, 'hello', 3, 4, 5]\n",
      "[0, 1, 'hello', 3, 4, 5]\n",
      "True\n",
      "False\n",
      "[0, 1, 'hello', 3, 4, 5]\n",
      "[6, 5, 4, 3, 2]\n"
     ]
    }
   ],
   "source": [
    "aList = [0, 1, 2, 3, 4, 5]\n",
    "bList = aList\n",
    "aList[2] = 'hello'\n",
    "print(aList == bList)\n",
    "print(aList is bList)\n",
    "print(aList)\n",
    "print(bList)\n",
    "\n",
    "cList = [6, 5, 4, 3, 2]\n",
    "dList = []\n",
    "for num in cList:\n",
    "    dList.append(num)\n",
    "print(cList == dList)\n",
    "\n",
    "\n",
    "print(cList is dList)\n",
    "cList[2] = 20\n",
    "print(aList)\n",
    "print(dList)"
   ]
  },
  {
   "cell_type": "code",
   "execution_count": 83,
   "metadata": {},
   "outputs": [
    {
     "name": "stdout",
     "output_type": "stream",
     "text": [
      "140138240878984\n",
      "Same as cool 140138240878984\n",
      "Not same since this is a copy 140138240219976\n",
      "140138247356464\n",
      "140138247356464\n",
      "True\n"
     ]
    }
   ],
   "source": [
    "cool=['gren','blue']\n",
    "chill=cool\n",
    "cs=cool[:]\n",
    "a='hey you'\n",
    "b=a\n",
    "print(id(cool))\n",
    "print(\"Same as cool\",id(chill))\n",
    "print(\"Not same since this is a copy\",id(cs))\n",
    "\n",
    "print(id(a))\n",
    "print(id(b))\n",
    "\n",
    "a = 123\n",
    "b = 123\n",
    "print(a is b)"
   ]
  },
  {
   "cell_type": "code",
   "execution_count": 84,
   "metadata": {},
   "outputs": [
    {
     "name": "stdout",
     "output_type": "stream",
     "text": [
      "True\n",
      "True\n"
     ]
    }
   ],
   "source": [
    "a = 'hello'\n",
    "b = a\n",
    "print(a is b)\n",
    "\n",
    "a = 'hello'\n",
    "b = 'hello'\n",
    "print(a is b)"
   ]
  },
  {
   "cell_type": "code",
   "execution_count": 90,
   "metadata": {},
   "outputs": [
    {
     "name": "stdout",
     "output_type": "stream",
     "text": [
      "140138247356464\n",
      "140138247356464\n",
      "True\n",
      "True\n",
      "140138249783408\n",
      "140138249783408\n",
      "True\n",
      "True\n",
      "140138250416200\n",
      "140138240347080\n",
      "True\n",
      "False\n"
     ]
    }
   ],
   "source": [
    "#cloning\n",
    "s='lakshmi'\n",
    "t=('rand','name',20)\n",
    "l=[20,19,39,'age']\n",
    "\n",
    "cs=s[:]\n",
    "ct=t[:]\n",
    "cl=l[:]\n",
    "\n",
    "print(id(s))\n",
    "print(id(cs))\n",
    "print(s==cs)\n",
    "print(s is cs)\n",
    "\n",
    "print(id(t))\n",
    "print(id(ct))\n",
    "print(t==ct)\n",
    "print(t is ct)\n",
    "\n",
    "print(id(l))\n",
    "print(id(cl))\n",
    "print(l==cl)\n",
    "print(l is cl)"
   ]
  },
  {
   "cell_type": "code",
   "execution_count": 91,
   "metadata": {},
   "outputs": [
    {
     "name": "stdout",
     "output_type": "stream",
     "text": [
      "140138247356464\n",
      "140138247356464\n",
      "True\n",
      "True\n",
      "140138248873736\n",
      "140138248873736\n",
      "True\n",
      "True\n",
      "140138250342664\n",
      "140138250342664\n",
      "True\n",
      "True\n"
     ]
    }
   ],
   "source": [
    "# alliasing\n",
    "s='lakshmi'\n",
    "t=('rand','name',20)\n",
    "l=[20,19,39,'age']\n",
    "\n",
    "cs=s\n",
    "ct=t\n",
    "cl=l\n",
    "\n",
    "print(id(s))\n",
    "print(id(cs))\n",
    "print(s==cs)\n",
    "print(s is cs)\n",
    "\n",
    "print(id(t))\n",
    "print(id(ct))\n",
    "print(t==ct)\n",
    "print(t is ct)\n",
    "\n",
    "print(id(l))\n",
    "print(id(cl))\n",
    "print(l==cl)\n",
    "print(l is cl)"
   ]
  },
  {
   "cell_type": "code",
   "execution_count": 92,
   "metadata": {},
   "outputs": [
    {
     "data": {
      "text/plain": [
       "True"
      ]
     },
     "execution_count": 92,
     "metadata": {},
     "output_type": "execute_result"
    }
   ],
   "source": [
    "isinstance(1, object)"
   ]
  },
  {
   "cell_type": "code",
   "execution_count": 93,
   "metadata": {},
   "outputs": [
    {
     "data": {
      "text/plain": [
       "True"
      ]
     },
     "execution_count": 93,
     "metadata": {},
     "output_type": "execute_result"
    }
   ],
   "source": [
    "isinstance(list(), object)"
   ]
  },
  {
   "cell_type": "markdown",
   "metadata": {},
   "source": [
    "Type\tImmutable?\n",
    "\n",
    "int\tYes\n",
    "\n",
    "float\tYes\n",
    "\n",
    "bool\tYes\n",
    "\n",
    "complex\tYes\n",
    "\n",
    "tuple\tYes\n",
    "\n",
    "frozenset\tYes\n",
    "\n",
    "str\tYes\n",
    "\n",
    "list\tNo\n",
    "\n",
    "set\tNo\n",
    "\n",
    "dict\tNo"
   ]
  },
  {
   "cell_type": "code",
   "execution_count": 95,
   "metadata": {},
   "outputs": [
    {
     "name": "stdout",
     "output_type": "stream",
     "text": [
      "94188955808928\n",
      "6\n",
      "94188955808960\n"
     ]
    }
   ],
   "source": [
    "x = 5\n",
    "print(id(x))\n",
    "x+=1\n",
    "print(x)\n",
    "print(id(x))"
   ]
  },
  {
   "cell_type": "code",
   "execution_count": 97,
   "metadata": {},
   "outputs": [
    {
     "data": {
      "text/plain": [
       "140637819609424"
      ]
     },
     "execution_count": 97,
     "metadata": {},
     "output_type": "execute_result"
    }
   ],
   "source": [
    ">>> s = \"real_python\"\n",
    ">>> id(s)\n",
    "140637819584048\n",
    ">>> s += \"_rocks\"\n",
    ">>> s\n",
    "'real_python_rocks'\n",
    ">>> id(s)\n",
    "140637819609424"
   ]
  },
  {
   "cell_type": "code",
   "execution_count": 100,
   "metadata": {},
   "outputs": [
    {
     "data": {
      "text/plain": [
       "140637819575368"
      ]
     },
     "execution_count": 100,
     "metadata": {},
     "output_type": "execute_result"
    }
   ],
   "source": [
    ">>> my_list = [1, 2, 3]\n",
    ">>> id(my_list)\n",
    "140637819575368\n",
    ">>> my_list.append(4)\n",
    ">>> my_list\n",
    "[1, 2, 3, 4]\n",
    ">>> id(my_list)\n",
    "140637819575368\n",
    ">>> my_list[0] = 0\n",
    ">>> my_list\n",
    "[0, 2, 3, 4]\n",
    ">>> id(my_list)\n",
    "140637819575368"
   ]
  },
  {
   "cell_type": "code",
   "execution_count": 104,
   "metadata": {},
   "outputs": [
    {
     "name": "stdout",
     "output_type": "stream",
     "text": [
      "True\n",
      "True\n",
      "False\n",
      "True\n"
     ]
    }
   ],
   "source": [
    "a = 256\n",
    "b = 256\n",
    "print(a is b)   # True \n",
    "print(a == b)  # True\n",
    "#range (-5, 256) was chosen\n",
    "a = 257\n",
    "b = 257\n",
    "print(a is b)   # False \n",
    "print(a == b)  # True"
   ]
  },
  {
   "cell_type": "markdown",
   "metadata": {},
   "source": [
    ">> a is b\n",
    ">> id(a) == id(b)"
   ]
  },
  {
   "cell_type": "code",
   "execution_count": 105,
   "metadata": {},
   "outputs": [
    {
     "data": {
      "text/plain": [
       "(True, False, 4555308176, 4555308272)"
      ]
     },
     "execution_count": 105,
     "metadata": {},
     "output_type": "execute_result"
    }
   ],
   "source": [
    ">>> s1 = b1 = 'somestrdaasd ad ad asd as dasddsg,dlfg ,;dflg, dfg a'\n",
    ">>> s1 == b1, s1 is b1, id(s1), id(b1)\n",
    "(True, True, 4555308080, 4555308080)\n",
    "\n",
    ">>> s1 = 'somestrdaasd ad ad asd as dasddsg,dlfg ,;dflg, dfg a'\n",
    ">>> b1 = 'somestrdaasd ad ad asd as dasddsg,dlfg ,;dflg, dfg a'\n",
    ">>> s1 == b1, s1 is b1, id(s1), id(b1)\n",
    "(True, False, 4555308176, 4555308272)"
   ]
  },
  {
   "cell_type": "code",
   "execution_count": 107,
   "metadata": {},
   "outputs": [
    {
     "name": "stdout",
     "output_type": "stream",
     "text": [
      "True\n",
      "False\n"
     ]
    }
   ],
   "source": [
    "foo = 10\n",
    "print(dir(foo) == dir(10))\n",
    "print(dir(foo) is dir(10))"
   ]
  },
  {
   "cell_type": "markdown",
   "metadata": {},
   "source": [
    "## FUNCTIONS ARE FIRST CLASS OBJECTS:\n",
    "They have a type, can also be elements of data structures such as lists, can appear in expressions \n",
    "\n",
    "FUNCTIONS as arguments ?"
   ]
  },
  {
   "cell_type": "code",
   "execution_count": 5,
   "metadata": {},
   "outputs": [],
   "source": [
    "def fact(n):\n",
    "    if n==1 or n==0: \n",
    "        return 1\n",
    "    else:\n",
    "        return n*fact(n-1) "
   ]
  },
  {
   "cell_type": "code",
   "execution_count": 6,
   "metadata": {},
   "outputs": [],
   "source": [
    "def fib(n):\n",
    "    if n==0 or n==1: \n",
    "        return 1\n",
    "    else:\n",
    "        return fib(n-1)+fib(n-2)"
   ]
  },
  {
   "cell_type": "code",
   "execution_count": 7,
   "metadata": {},
   "outputs": [
    {
     "name": "stdout",
     "output_type": "stream",
     "text": [
      "[1, 2, 3.4]\n",
      "[1, 2, 3]\n",
      "[1, 2, 6]\n",
      "[1, 2, 13]\n"
     ]
    }
   ],
   "source": [
    "def applytoeach(li,f):\n",
    "    \"\"\" l is a list, f a function mutates l by replacing each element i if l by f(i)\"\"\"\n",
    "    for i in range(len(li)):\n",
    "        li[i]=f(li[i])\n",
    "li=[1,-2,3.4]\n",
    "applytoeach(li,abs)\n",
    "print(li)\n",
    "applytoeach(li,int)\n",
    "print(li)\n",
    "applytoeach(li,fact)\n",
    "print(li)\n",
    "applytoeach(li,fib)\n",
    "print(li)"
   ]
  },
  {
   "cell_type": "code",
   "execution_count": 8,
   "metadata": {},
   "outputs": [
    {
     "name": "stdout",
     "output_type": "stream",
     "text": [
      "4\n",
      "4\n",
      "24\n",
      "5\n"
     ]
    }
   ],
   "source": [
    "def applyFuncs(L,x):\n",
    "    for f in L:\n",
    "        print(f(x))\n",
    "applyFuncs([abs,int,fact,fib],4)"
   ]
  },
  {
   "cell_type": "markdown",
   "metadata": {},
   "source": [
    "General purpose Higher order procedure by python - Map <br/>\n",
    "A unary function and a collection \n",
    "> map(abs,[-1,3,-4,5])<br/>\n",
    "> map(function,iterable)\n",
    "\n",
    "The function f is called with the first element of the iterable as the argument. That function call is completed and a value is returned (if the function returns a value).\n",
    "The values returned are kept in a map object, which is an iterator."
   ]
  },
  {
   "cell_type": "code",
   "execution_count": 9,
   "metadata": {},
   "outputs": [
    {
     "name": "stdout",
     "output_type": "stream",
     "text": [
      "2\n",
      "4\n",
      "6\n",
      "2\n"
     ]
    }
   ],
   "source": [
    "for i in map(abs,[-2,4,-6,-2]):\n",
    "    print(i)"
   ]
  },
  {
   "cell_type": "code",
   "execution_count": 17,
   "metadata": {},
   "outputs": [
    {
     "name": "stdout",
     "output_type": "stream",
     "text": [
      "35\n",
      "6\n",
      "3\n",
      "25\n",
      "Stops after 4 elements in l2, doesn't even check the rest in l1\n"
     ]
    }
   ],
   "source": [
    "l1=[43,6,3,25,53,53242,0,-1]\n",
    "l2=[35,64,6,745]\n",
    "for i in map(min,l1,l2):\n",
    "    print(i)\n",
    "print(\"Stops after 4 elements in l2, doesn't even check the rest in l1\")"
   ]
  },
  {
   "cell_type": "code",
   "execution_count": 19,
   "metadata": {
    "collapsed": true
   },
   "outputs": [
    {
     "ename": "TypeError",
     "evalue": "'builtin_function_or_method' object is not iterable",
     "output_type": "error",
     "traceback": [
      "\u001b[0;31m---------------------------------------------------------------------------\u001b[0m",
      "\u001b[0;31mTypeError\u001b[0m                                 Traceback (most recent call last)",
      "\u001b[0;32m<ipython-input-19-067580b86654>\u001b[0m in \u001b[0;36m<module>\u001b[0;34m\u001b[0m\n\u001b[1;32m      2\u001b[0m \u001b[0ml1\u001b[0m\u001b[0;34m=\u001b[0m\u001b[0;34m[\u001b[0m\u001b[0;36m43\u001b[0m\u001b[0;34m,\u001b[0m\u001b[0;36m6\u001b[0m\u001b[0;34m,\u001b[0m\u001b[0;36m3\u001b[0m\u001b[0;34m,\u001b[0m\u001b[0;36m25\u001b[0m\u001b[0;34m,\u001b[0m\u001b[0;36m53\u001b[0m\u001b[0;34m,\u001b[0m\u001b[0;36m53242\u001b[0m\u001b[0;34m,\u001b[0m\u001b[0;36m0\u001b[0m\u001b[0;34m,\u001b[0m\u001b[0;34m-\u001b[0m\u001b[0;36m1\u001b[0m\u001b[0;34m]\u001b[0m\u001b[0;34m\u001b[0m\u001b[0;34m\u001b[0m\u001b[0m\n\u001b[1;32m      3\u001b[0m \u001b[0ml2\u001b[0m\u001b[0;34m=\u001b[0m\u001b[0;34m[\u001b[0m\u001b[0;36m35\u001b[0m\u001b[0;34m,\u001b[0m\u001b[0;36m64\u001b[0m\u001b[0;34m,\u001b[0m\u001b[0;36m6\u001b[0m\u001b[0;34m,\u001b[0m\u001b[0;36m745\u001b[0m\u001b[0;34m]\u001b[0m\u001b[0;34m\u001b[0m\u001b[0;34m\u001b[0m\u001b[0m\n\u001b[0;32m----> 4\u001b[0;31m \u001b[0;32mfor\u001b[0m \u001b[0mi\u001b[0m \u001b[0;32min\u001b[0m \u001b[0mmap\u001b[0m\u001b[0;34m(\u001b[0m\u001b[0mmin\u001b[0m\u001b[0;34m,\u001b[0m\u001b[0mmax\u001b[0m\u001b[0;34m,\u001b[0m\u001b[0ml1\u001b[0m\u001b[0;34m,\u001b[0m\u001b[0ml2\u001b[0m\u001b[0;34m)\u001b[0m\u001b[0;34m:\u001b[0m\u001b[0;34m\u001b[0m\u001b[0;34m\u001b[0m\u001b[0m\n\u001b[0m\u001b[1;32m      5\u001b[0m     \u001b[0mprint\u001b[0m\u001b[0;34m(\u001b[0m\u001b[0mi\u001b[0m\u001b[0;34m)\u001b[0m\u001b[0;34m\u001b[0m\u001b[0;34m\u001b[0m\u001b[0m\n\u001b[1;32m      6\u001b[0m \u001b[0mprint\u001b[0m\u001b[0;34m(\u001b[0m\u001b[0;34m\"Stops after 4 elements in l2, doesn't even check the rest in l1\"\u001b[0m\u001b[0;34m)\u001b[0m\u001b[0;34m\u001b[0m\u001b[0;34m\u001b[0m\u001b[0m\n",
      "\u001b[0;31mTypeError\u001b[0m: 'builtin_function_or_method' object is not iterable"
     ]
    }
   ],
   "source": [
    "#ERROR !!\n",
    "l1=[43,6,3,25,53,53242,0,-1]\n",
    "l2=[35,64,6,745]\n",
    "for i in map(min,max,l1,l2):\n",
    "    print(i)\n",
    "print(\"Stops after 4 elements in l2, doesn't even check the rest in l1\")"
   ]
  },
  {
   "cell_type": "code",
   "execution_count": 22,
   "metadata": {
    "collapsed": true
   },
   "outputs": [
    {
     "name": "stdout",
     "output_type": "stream",
     "text": [
      "35 43\n",
      "35 64\n",
      "35 6\n",
      "35 745\n",
      "6 43\n",
      "6 64\n",
      "6 6\n",
      "6 745\n",
      "3 43\n",
      "3 64\n",
      "3 6\n",
      "3 745\n",
      "25 43\n",
      "25 64\n",
      "25 6\n",
      "25 745\n",
      "Stops after 4 elements in l2, doesn't even check the rest in l1\n"
     ]
    }
   ],
   "source": [
    "#ERROR WRONGGG!!\n",
    "l1=[43,6,3,25,53,53242,0,-1]\n",
    "l2=[35,64,6,745]\n",
    "for i in map(min,l1,l2):\n",
    "    for j in map(max,l1,l2):\n",
    "        print(i,j)\n",
    "print(\"Stops after 4 elements in l2, doesn't even check the rest in l1\")"
   ]
  },
  {
   "cell_type": "code",
   "execution_count": 29,
   "metadata": {},
   "outputs": [
    {
     "name": "stdout",
     "output_type": "stream",
     "text": [
      "0\n",
      "6\n",
      "6\n",
      "25\n",
      "Stops after 4 elements in l2, doesn't even check the rest in l1\n"
     ]
    }
   ],
   "source": [
    "l1=[43,6,31,25,53,53242,0,-1]\n",
    "l2=[35,64,6,745]\n",
    "l3=[0,48,58,64,5,6543]\n",
    "for i in map(min,l1,l2,l3):\n",
    "    print(i)\n",
    "print(\"Stops after 4 elements in l2, doesn't even check the rest in l1\")"
   ]
  },
  {
   "cell_type": "markdown",
   "metadata": {},
   "source": [
    "If we want factorial of minimum element out of the lists:"
   ]
  },
  {
   "cell_type": "code",
   "execution_count": 35,
   "metadata": {},
   "outputs": [
    {
     "name": "stdout",
     "output_type": "stream",
     "text": [
      "1\n",
      "720\n",
      "720\n",
      "15511210043330985984000000\n"
     ]
    }
   ],
   "source": [
    "l1=[43,6,31,25,53,53242,0,-1]\n",
    "l2=[35,64,6,745]\n",
    "l3=[0,48,58,64,5,6543]\n",
    "for i in map(min,l1,l2,l3):\n",
    "    print(fact(i))"
   ]
  },
  {
   "cell_type": "code",
   "execution_count": 59,
   "metadata": {},
   "outputs": [
    {
     "name": "stdout",
     "output_type": "stream",
     "text": [
      "<map object at 0x7fe83464c7f0>\n",
      "[3, 4, 5, 6]\n",
      "()\n"
     ]
    }
   ],
   "source": [
    "def f(x):\n",
    "    return x+2\n",
    "result=map(f,[1,2,3,4])\n",
    "print(result)\n",
    "print(list(result))\n",
    "print(tuple(result)) #?\n",
    "# print(int(result)) #TypeError- int() argument must be a string, a bytes-like object or a number, not 'map'"
   ]
  },
  {
   "cell_type": "code",
   "execution_count": 43,
   "metadata": {},
   "outputs": [
    {
     "name": "stdout",
     "output_type": "stream",
     "text": [
      "1\n",
      "720\n",
      "720\n",
      "15511210043330985984000000\n"
     ]
    }
   ],
   "source": [
    "for i in map(min,[43,6,31,25,53,53242,0,-1],[35,64,6,745],[0,48,58,64,5,6543]):\n",
    "    print(fact(i))"
   ]
  },
  {
   "cell_type": "code",
   "execution_count": 46,
   "metadata": {},
   "outputs": [
    {
     "name": "stdout",
     "output_type": "stream",
     "text": [
      "[5, 5, 10]\n"
     ]
    }
   ],
   "source": [
    "def f(a,b):\n",
    "    return a+b\n",
    "result=map(f,[1,2,4],[4,3,6])\n",
    "print(list(result))"
   ]
  },
  {
   "cell_type": "markdown",
   "metadata": {},
   "source": [
    "Map function with tring iterables"
   ]
  },
  {
   "cell_type": "code",
   "execution_count": 51,
   "metadata": {},
   "outputs": [
    {
     "data": {
      "text/plain": [
       "[True, True, False]"
      ]
     },
     "execution_count": 51,
     "metadata": {},
     "output_type": "execute_result"
    }
   ],
   "source": [
    "a=[\"ab\",\"a\",\"ccc\",\"fs\"]\n",
    "b=[\"cc\",\"a\",\"ee\"]\n",
    "def same_length(x,y):\n",
    "    return len(x)==len(y)\n",
    "list(map(same_length,a,b))"
   ]
  },
  {
   "cell_type": "code",
   "execution_count": 53,
   "metadata": {},
   "outputs": [
    {
     "name": "stdout",
     "output_type": "stream",
     "text": [
      "[True, True, False]\n"
     ]
    }
   ],
   "source": [
    "a=[\"ab\",\"a\",\"ccc\",\"fs\"]\n",
    "b=[\"cc\",\"a\",\"ee\"]\n",
    "def f(x,y):\n",
    "    return len(x)==len(y)\n",
    "result=map(f,a,b)\n",
    "print(list(result))"
   ]
  },
  {
   "cell_type": "code",
   "execution_count": 54,
   "metadata": {},
   "outputs": [
    {
     "name": "stdout",
     "output_type": "stream",
     "text": [
      "4\n",
      "6\n",
      "10\n"
     ]
    }
   ],
   "source": [
    "def f(x):\n",
    "    return x*2\n",
    "for i in map(f,[2,3,5]):\n",
    "    print(i)"
   ]
  },
  {
   "cell_type": "markdown",
   "metadata": {},
   "source": [
    "The map() function takes two parameters (in this order):\n",
    ">The function that we want to apply to each item of the iterable\n",
    "\n",
    ">The iterable."
   ]
  },
  {
   "cell_type": "code",
   "execution_count": 56,
   "metadata": {},
   "outputs": [
    {
     "name": "stdout",
     "output_type": "stream",
     "text": [
      "[1, 1, 2, 3, 5, 8, 13, 21, 34, 55, 89, 144, 233, 377, 610, 987, 1597, 2584, 4181, 6765, 10946]\n"
     ]
    }
   ],
   "source": [
    "#FIB!\n",
    "def toEach (L, f):\n",
    "    for i in range(2,len(L)):\n",
    "        L[i]=f(L[i-1]+L[i-2])\n",
    "L=[1,1,0,0,0,0,0,0,0,0,0,0,0,0,0,0,0,0,0,0,0]\n",
    "toEach(L,int)\n",
    "print(L)"
   ]
  },
  {
   "cell_type": "code",
   "execution_count": 58,
   "metadata": {},
   "outputs": [
    {
     "name": "stdout",
     "output_type": "stream",
     "text": [
      "(True, True, False)\n"
     ]
    }
   ],
   "source": [
    "a=(\"ab\",\"a\",\"ccc\",\"fs\")\n",
    "b=(\"cc\",\"a\",\"ee\")\n",
    "def f(x,y):\n",
    "    return len(x)==len(y)\n",
    "result=map(f,a,b)\n",
    "print(tuple(result))"
   ]
  },
  {
   "cell_type": "code",
   "execution_count": 67,
   "metadata": {},
   "outputs": [
    {
     "name": "stdout",
     "output_type": "stream",
     "text": [
      "[1, -2, 3.4]\n",
      "[1, 2, 3.4]\n",
      "[1, 2, 3.4]\n",
      "None\n"
     ]
    },
    {
     "data": {
      "text/plain": [
       "[1, 2, 3.4]"
      ]
     },
     "execution_count": 67,
     "metadata": {},
     "output_type": "execute_result"
    }
   ],
   "source": [
    "def apply(L, f):\n",
    "    for i in range(len(L)):\n",
    "        L[i]= f(L[i])\n",
    "        print(L) #returns wrong list\n",
    "\n",
    "L=[1,-2,3.4]\n",
    "print(apply(L, abs))\n",
    "L"
   ]
  },
  {
   "cell_type": "code",
   "execution_count": 71,
   "metadata": {},
   "outputs": [
    {
     "name": "stdout",
     "output_type": "stream",
     "text": [
      "[1, 2, 6]\n"
     ]
    }
   ],
   "source": [
    "import math \n",
    "\n",
    "def applytoeach(li,f):\n",
    "    \"\"\" l is a list, f a function mutates l by replacing each element i if l by f(i)\"\"\"\n",
    "    for i in range(len(li)):\n",
    "        li[i]=f(li[i])\n",
    "li=[1,2,3]\n",
    "applytoeach(li,math.factorial)\n",
    "print(li)"
   ]
  },
  {
   "cell_type": "code",
   "execution_count": 81,
   "metadata": {},
   "outputs": [
    {
     "name": "stdout",
     "output_type": "stream",
     "text": [
      "[5, -20, 40, -45]\n",
      "[25, 400, 1600, 2025]\n",
      "[26, 401, 1601, 2026]\n"
     ]
    }
   ],
   "source": [
    "def timesFive(a):\n",
    "    return a * 5\n",
    "def applyToEach(L, f):\n",
    "    for i in range(len(L)):\n",
    "        L[i] = f(L[i])\n",
    "\n",
    "testList = [1, -4, 8, -9]\n",
    "applyToEach(testList, timesFive)\n",
    "print(testList)\n",
    "# Your Code Here\n",
    "def square(a):\n",
    "    return a**2\n",
    "applyToEach(testList,square)\n",
    "print(testList)\n",
    "\n",
    "# Your Code Here\n",
    "def inc(a):\n",
    "    return a+1\n",
    "applyToEach(testList,inc)\n",
    "print(testList)"
   ]
  },
  {
   "cell_type": "code",
   "execution_count": 88,
   "metadata": {},
   "outputs": [
    {
     "data": {
      "text/plain": [
       "[6, 12344, 22, 72]"
      ]
     },
     "execution_count": 88,
     "metadata": {},
     "output_type": "execute_result"
    }
   ],
   "source": [
    "applyToEach(testList, lambda x : 3*x**2 + abs(x) - 8)\n",
    "\n",
    "# Which is equivalent to:\n",
    "# def my_func(x):\n",
    "#        return 3*x**2 + abs(x) - 8\n",
    "\n",
    "\n",
    "testList=[2,64,3,5]\n",
    "applyToEach(testList, my_func)\n",
    "testList"
   ]
  },
  {
   "cell_type": "code",
   "execution_count": 100,
   "metadata": {},
   "outputs": [
    {
     "name": "stdout",
     "output_type": "stream",
     "text": [
      "[-2, 9, -1.5, 3]\n",
      "[4.0, 9.0, 1.5, 3.0]\n"
     ]
    }
   ],
   "source": [
    "def applyEachTo(L, x):\n",
    "    result = []\n",
    "    for i in range(len(L)):\n",
    "        result.append(L[i](x))\n",
    "    return result\n",
    "def square(a):\n",
    "    return a*a\n",
    "\n",
    "def halve(a):\n",
    "    return a/2\n",
    "\n",
    "def inc(a):\n",
    "    return a+1\n",
    "print(applyEachTo([inc, square, halve, abs], -3))\n",
    "print(applyEachTo([inc, square, halve, abs], 3.0))\n",
    "# error print(applyEachTo([inc, max, int], -3))"
   ]
  },
  {
   "cell_type": "code",
   "execution_count": 108,
   "metadata": {},
   "outputs": [
    {
     "name": "stdout",
     "output_type": "stream",
     "text": [
      "First module's name: __main__ \n"
     ]
    }
   ],
   "source": [
    "print(\"First module's name: {} \".format(__name__))"
   ]
  },
  {
   "cell_type": "code",
   "execution_count": 107,
   "metadata": {},
   "outputs": [
    {
     "name": "stdout",
     "output_type": "stream",
     "text": [
      "First module's name: __main__ \n"
     ]
    }
   ],
   "source": [
    "def main():\n",
    "    print(\"First module's name: {} \".format(__name__))\n",
    "    #pass\n",
    "\n",
    "if __name__=='__main__':\n",
    "    main()"
   ]
  },
  {
   "cell_type": "markdown",
   "metadata": {},
   "source": [
    "Lists, tuples, ranges and strings"
   ]
  },
  {
   "cell_type": "markdown",
   "metadata": {},
   "source": [
    "Common operations:\n",
    "\n",
    "seq[i]\n",
    "\n",
    "len(seq)\n",
    "\n",
    "seq1+seq2 (not for range)\n",
    "\n",
    "n*seq (not for range)\n",
    "\n",
    "seq[start:end]\n",
    "\n",
    "e in seq\n",
    "\n",
    "e not in seq\n",
    "\n",
    "for e in seq"
   ]
  },
  {
   "cell_type": "code",
   "execution_count": 19,
   "metadata": {},
   "outputs": [],
   "source": [
    "L=[1,3,5,'adam']\n",
    "S='Laks Va'\n",
    "T=(4,36,6,2,'sho')\n",
    "R=range(0,5)\n",
    "\n",
    "L2=[4,3,3,'ant']\n",
    "S2='hmi llala'\n",
    "T2=(45,0,8,3,'cking')\n",
    "R2=range(3,25)"
   ]
  },
  {
   "cell_type": "code",
   "execution_count": 29,
   "metadata": {
    "collapsed": true
   },
   "outputs": [
    {
     "name": "stdout",
     "output_type": "stream",
     "text": [
      "5 2 s 2 \n",
      "\n",
      "4 7 5 5 \n",
      "\n",
      "[1, 3, 5, 'adam', 4, 3, 3, 'ant'] Laks Vahmi llala (4, 36, 6, 2, 'sho', 45, 0, 8, 3, 'cking') \n",
      "\n",
      "[1, 3, 5, 'adam', 1, 3, 5, 'adam', 1, 3, 5, 'adam', 1, 3, 5, 'adam'] Laks VaLaks VaLaks Va (4, 36, 6, 2, 'sho', 4, 36, 6, 2, 'sho', 4, 36, 6, 2, 'sho', 4, 36, 6, 2, 'sho', 4, 36, 6, 2, 'sho') \n",
      "\n",
      "[5, 'adam'] (6, 2) ks range(2, 4) \n",
      "\n",
      "True True True True\n",
      "False False False False\n"
     ]
    }
   ],
   "source": [
    "print(L[2],T[3],S[3],R[2],\"\\n\")\n",
    "print(len(L),len(S),len(T),len(R),\"\\n\")\n",
    "print((L+L2),(S+S2),(T+T2),\"\\n\") # print(R+R2) TypeError- unsupported operand type(s) for +: 'range' and 'range'\n",
    "print((4*L),(3*S),(5*T),\"\\n\")\n",
    "print(L[2:4],T[2:4],S[2:4],R[2:4],\"\\n\")\n",
    "print(1 in L,'L' in S,4 in T,4 in T)\n",
    "print(1 not in L,'L' not in S,4 not in T,4 not in T)"
   ]
  },
  {
   "cell_type": "code",
   "execution_count": 56,
   "metadata": {},
   "outputs": [
    {
     "name": "stdout",
     "output_type": "stream",
     "text": [
      "1 3 5 adam L a k s   V a 4 36 6 2 sho 0 1 2 3 4 0 1 2 3 4 5 "
     ]
    }
   ],
   "source": [
    "for i in L:\n",
    "    print(i,end=' ')\n",
    "for i in S:\n",
    "    print(i,end=' ')\n",
    "for i in T:\n",
    "    print(i,end=' ')\n",
    "for i in R:\n",
    "    print(i,end=' ')\n",
    "for i in range(6):\n",
    "    print(i,end=' ')"
   ]
  },
  {
   "cell_type": "markdown",
   "metadata": {},
   "source": [
    "| type | examples | Mutable\n",
    "|---------------|----------|---------|\n",
    "|   str  | characters |' ','abc','a' | No |\n",
    "|   tuple  | any type | (),(3,),('abc',4) | No |\n",
    "|   range  | integers | range(10), range(1,10,2) | No |\n",
    "|   list  | any type | [],[3],['abc',4] | Yes |"
   ]
  },
  {
   "cell_type": "markdown",
   "metadata": {},
   "source": [
    "DOES TUPLE ACT AS A MUTABLE OBJECT? EVER?\n",
    "> If a tuple holds mutable objects, the values stored in those objects can change"
   ]
  },
  {
   "cell_type": "code",
   "execution_count": 34,
   "metadata": {},
   "outputs": [
    {
     "name": "stdout",
     "output_type": "stream",
     "text": [
      "([1, 2, 3], [4, 5, 6])\n",
      "([1, 2, 3, 'Banana'], [4, 5, 6])\n"
     ]
    }
   ],
   "source": [
    "l=[1,2,3]\n",
    "r=[4,5,6]\n",
    "\n",
    "t = (l,r)  \n",
    "print(t)   \n",
    "l.append('Banana')\n",
    "print(t)   "
   ]
  },
  {
   "cell_type": "code",
   "execution_count": 38,
   "metadata": {
    "collapsed": true
   },
   "outputs": [
    {
     "name": "stdout",
     "output_type": "stream",
     "text": [
      "Laks Vahmi llala\n"
     ]
    },
    {
     "ename": "TypeError",
     "evalue": "can only concatenate str (not \"list\") to str",
     "output_type": "error",
     "traceback": [
      "\u001b[0;31m---------------------------------------------------------------------------\u001b[0m",
      "\u001b[0;31mTypeError\u001b[0m                                 Traceback (most recent call last)",
      "\u001b[0;32m<ipython-input-38-fff9b706095a>\u001b[0m in \u001b[0;36m<module>\u001b[0;34m\u001b[0m\n\u001b[1;32m      1\u001b[0m \u001b[0mprint\u001b[0m\u001b[0;34m(\u001b[0m\u001b[0mS\u001b[0m\u001b[0;34m+\u001b[0m\u001b[0mS2\u001b[0m\u001b[0;34m)\u001b[0m\u001b[0;34m\u001b[0m\u001b[0;34m\u001b[0m\u001b[0m\n\u001b[0;32m----> 2\u001b[0;31m \u001b[0mprint\u001b[0m\u001b[0;34m(\u001b[0m\u001b[0mS\u001b[0m\u001b[0;34m+\u001b[0m\u001b[0mL\u001b[0m\u001b[0;34m)\u001b[0m \u001b[0;31m#TypeError can only concatenate str (not \"list\") to str\u001b[0m\u001b[0;34m\u001b[0m\u001b[0;34m\u001b[0m\u001b[0m\n\u001b[0m\u001b[1;32m      3\u001b[0m \u001b[0;31m# i.e can concatenate str+str,ist+list,tuple+tuple\u001b[0m\u001b[0;34m\u001b[0m\u001b[0;34m\u001b[0m\u001b[0;34m\u001b[0m\u001b[0m\n",
      "\u001b[0;31mTypeError\u001b[0m: can only concatenate str (not \"list\") to str"
     ]
    }
   ],
   "source": [
    "print(S+S2)\n",
    "print(S+L) #TypeError can only concatenate str (not \"list\") to str\n",
    "# i.e can concatenate str+str,ist+list,tuple+tuple"
   ]
  },
  {
   "cell_type": "markdown",
   "metadata": {},
   "source": [
    "How do you pronounce or say a method name like __init__? \"Underscore underscore init underscore underscore\" sounds horrible and is almost a tongue twister. \"Double underscore init double underscore\" is a lot better, but the ideal way is \"dunder init dunder\" \n",
    "\n",
    "[LINK](https://www.python-course.eu/python3_magic_methods.php)"
   ]
  },
  {
   "cell_type": "code",
   "execution_count": 40,
   "metadata": {},
   "outputs": [
    {
     "data": {
      "text/plain": [
       "[3, 6, 8, 7, 11, 13, 5, 3]"
      ]
     },
     "execution_count": 40,
     "metadata": {},
     "output_type": "execute_result"
    }
   ],
   "source": [
    "[3,6,8] + [7,11,13,5,3]"
   ]
  },
  {
   "cell_type": "code",
   "execution_count": 45,
   "metadata": {},
   "outputs": [
    {
     "data": {
      "text/plain": [
       "4.0"
      ]
     },
     "execution_count": 45,
     "metadata": {},
     "output_type": "execute_result"
    }
   ],
   "source": [
    "# TypeError\n",
    "# (1, 2, 3) + [4]\n",
    "# (1, 2, 3) + 'abc'\n",
    "1 + 3.0"
   ]
  },
  {
   "cell_type": "code",
   "execution_count": 3,
   "metadata": {},
   "outputs": [
    {
     "data": {
      "text/plain": [
       "range(3, 5)"
      ]
     },
     "execution_count": 3,
     "metadata": {},
     "output_type": "execute_result"
    }
   ],
   "source": [
    "range(6)[3:5]"
   ]
  },
  {
   "cell_type": "markdown",
   "metadata": {},
   "source": [
    "# DICTIONARY"
   ]
  },
  {
   "cell_type": "code",
   "execution_count": 8,
   "metadata": {},
   "outputs": [],
   "source": [
    "names=['Ana','John','Katy','Ram']\n",
    "grade=['B','A','A-','C']\n",
    "course=[2.00,35.35,632.5,646.6]"
   ]
  },
  {
   "cell_type": "code",
   "execution_count": 9,
   "metadata": {},
   "outputs": [
    {
     "name": "stdout",
     "output_type": "stream",
     "text": [
      "([2.0, 35.35, 632.5, 646.6], 'B')\n",
      "([2.0, 35.35, 632.5, 646.6], 'A')\n",
      "([2.0, 35.35, 632.5, 646.6], 'A-')\n",
      "([2.0, 35.35, 632.5, 646.6], 'C')\n"
     ]
    }
   ],
   "source": [
    "def get_grade(student,name_list,grade_list,course_list):\n",
    "    i=name_list.index(student)\n",
    "    grade=grade_list[i]\n",
    "    return (course,grade)\n",
    "print(get_grade('Ana',names,grade,course))\n",
    "print(get_grade('John',names,grade,course))\n",
    "print(get_grade('Katy',names,grade,course))\n",
    "print(get_grade('Ram',names,grade,course))"
   ]
  },
  {
   "cell_type": "code",
   "execution_count": 2,
   "metadata": {},
   "outputs": [],
   "source": [
    "from time import sleep\n",
    "from tqdm import tqdm #progress bar while using loops"
   ]
  },
  {
   "cell_type": "code",
   "execution_count": 9,
   "metadata": {},
   "outputs": [
    {
     "name": "stdout",
     "output_type": "stream",
     "text": [
      "WOAH\n"
     ]
    }
   ],
   "source": [
    "for i in range(100):\n",
    "    sleep(0.1)\n",
    "print(\"WOAH\") #prints out after 0.1 s? "
   ]
  },
  {
   "cell_type": "code",
   "execution_count": 10,
   "metadata": {},
   "outputs": [
    {
     "name": "stderr",
     "output_type": "stream",
     "text": [
      "100%|██████████| 100/100 [00:10<00:00,  9.80it/s]"
     ]
    },
    {
     "name": "stdout",
     "output_type": "stream",
     "text": [
      "WOAH\n"
     ]
    },
    {
     "name": "stderr",
     "output_type": "stream",
     "text": [
      "\n"
     ]
    }
   ],
   "source": [
    "for i in tqdm(range(100)):\n",
    "    sleep(0.1)\n",
    "print(\"WOAH\")"
   ]
  },
  {
   "cell_type": "code",
   "execution_count": 16,
   "metadata": {},
   "outputs": [
    {
     "name": "stderr",
     "output_type": "stream",
     "text": [
      " 25%|██▌       | 1/4 [00:00<00:00,  3.99it/s]"
     ]
    },
    {
     "name": "stdout",
     "output_type": "stream",
     "text": [
      "a\n"
     ]
    },
    {
     "name": "stderr",
     "output_type": "stream",
     "text": [
      " 50%|█████     | 2/4 [00:00<00:00,  3.98it/s]"
     ]
    },
    {
     "name": "stdout",
     "output_type": "stream",
     "text": [
      "ab\n"
     ]
    },
    {
     "name": "stderr",
     "output_type": "stream",
     "text": [
      " 75%|███████▌  | 3/4 [00:00<00:00,  3.98it/s]"
     ]
    },
    {
     "name": "stdout",
     "output_type": "stream",
     "text": [
      "abc\n"
     ]
    },
    {
     "name": "stderr",
     "output_type": "stream",
     "text": [
      "100%|██████████| 4/4 [00:01<00:00,  3.97it/s]"
     ]
    },
    {
     "name": "stdout",
     "output_type": "stream",
     "text": [
      "abcd\n"
     ]
    },
    {
     "name": "stderr",
     "output_type": "stream",
     "text": [
      "\n"
     ]
    }
   ],
   "source": [
    "text=\"\"\n",
    "for char in tqdm([\"a\",\"b\",\"c\",\"d\"]):\n",
    "    sleep(0.25)\n",
    "    text=text+char\n",
    "    print(text)"
   ]
  },
  {
   "cell_type": "code",
   "execution_count": 18,
   "metadata": {},
   "outputs": [
    {
     "name": "stderr",
     "output_type": "stream",
     "text": [
      "Processing d: 100%|██████████| 4/4 [00:01<00:00,  3.92it/s]\n"
     ]
    }
   ],
   "source": [
    "pbar=tqdm([\"a\",\"b\",\"c\",\"d\"])\n",
    "for char in pbar:\n",
    "    sleep(0.25)\n",
    "    pbar.set_description(\"Processing %s\" % char)"
   ]
  },
  {
   "cell_type": "code",
   "execution_count": 23,
   "metadata": {},
   "outputs": [
    {
     "name": "stderr",
     "output_type": "stream",
     "text": [
      "100%|██████████| 100/100 [00:00<00:00, 976.37it/s]\n"
     ]
    }
   ],
   "source": [
    "with tqdm(total=100) as pbar:\n",
    "    for i in range(10):\n",
    "        sleep(0.01)\n",
    "        pbar.update(10)"
   ]
  },
  {
   "cell_type": "code",
   "execution_count": 24,
   "metadata": {},
   "outputs": [
    {
     "name": "stderr",
     "output_type": "stream",
     "text": [
      "100%|██████████| 100/100 [00:01<00:00, 97.88it/s]\n"
     ]
    }
   ],
   "source": [
    "pbar = tqdm(total=100)\n",
    "for i in range(10):\n",
    "    sleep(0.1)\n",
    "    pbar.update(10)\n",
    "pbar.close()"
   ]
  },
  {
   "cell_type": "code",
   "execution_count": 25,
   "metadata": {},
   "outputs": [],
   "source": [
    "import torch"
   ]
  },
  {
   "cell_type": "code",
   "execution_count": 28,
   "metadata": {},
   "outputs": [
    {
     "data": {
      "text/plain": [
       "tensor([-0.3402,  1.3317, -0.1646], requires_grad=True)"
      ]
     },
     "execution_count": 28,
     "metadata": {},
     "output_type": "execute_result"
    }
   ],
   "source": [
    "x=torch.randn(3,requires_grad=True)\n",
    "x"
   ]
  },
  {
   "cell_type": "code",
   "execution_count": null,
   "metadata": {},
   "outputs": [],
   "source": [
    "y=x+2"
   ]
  }
 ],
 "metadata": {
  "kernelspec": {
   "display_name": "Python 3",
   "language": "python",
   "name": "python3"
  },
  "language_info": {
   "codemirror_mode": {
    "name": "ipython",
    "version": 3
   },
   "file_extension": ".py",
   "mimetype": "text/x-python",
   "name": "python",
   "nbconvert_exporter": "python",
   "pygments_lexer": "ipython3",
   "version": "3.7.3"
  }
 },
 "nbformat": 4,
 "nbformat_minor": 2
}
